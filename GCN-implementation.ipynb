{
 "cells": [
  {
   "cell_type": "markdown",
   "metadata": {},
   "source": [
    "# Graph Convolutional Networks\n",
    "\n",
    "* graph G = (E, V)\n",
    "* inputs\n",
    "    * **X**: input feature matrix  of shape (N x F) or (Number of Nodes x number of input features)\n",
    "    * **A**: adjacency matrix of size (N x N)\n",
    "* **Hidden layer**: Hⁱ = f(Hⁱ = f(Hⁱ⁻¹, A)) \n",
    "    * H⁰ = X\n",
    "    * Hⁱ is a N × Fⁱ feature matrix where each row is a feature representation of a node\n",
    "    * feature become increasingly more abstract after the features are aggregated at each layer \n",
    "    * e.g. f(Hⁱ, A) = σ(AHⁱWⁱ) where sigma is a RELU function and Wⁱ is the weight matrix for layer i (dim  Fⁱ × Fⁱ⁺¹)\n",
    "    \n"
   ]
  },
  {
   "cell_type": "code",
   "execution_count": null,
   "metadata": {},
   "outputs": [],
   "source": [
    "import tensorflow as tf\n",
    "import networkx\n",
    "import numpy as np"
   ]
  },
  {
   "cell_type": "code",
   "execution_count": 44,
   "metadata": {},
   "outputs": [
    {
     "name": "stdout",
     "output_type": "stream",
     "text": [
      "[[ 0.  1.  0.  0.]\n",
      " [ 0.  0.  1.  1.]\n",
      " [ 0.  1.  0.  0.]\n",
      " [ 1.  0.  1.  0.]]\n",
      "shape of A: [4, 4]\n"
     ]
    }
   ],
   "source": [
    "# Adjacency Matrix A\n",
    "A = np.matrix([\n",
    "        [0, 1, 0, 0], \n",
    "        [0, 0, 1, 1], \n",
    "        [0, 1, 0, 0], \n",
    "        [1, 0, 1, 0]\n",
    "    ], dtype = float)\n",
    "print (A)\n",
    "print (\"shape of A: [%d, %d]\" % (A.shape))"
   ]
  },
  {
   "cell_type": "code",
   "execution_count": 17,
   "metadata": {},
   "outputs": [
    {
     "name": "stdout",
     "output_type": "stream",
     "text": [
      "[[ 0.  0.]\n",
      " [ 1. -1.]\n",
      " [ 2. -2.]\n",
      " [ 3. -3.]]\n",
      "shape of X: [4, 2]\n"
     ]
    }
   ],
   "source": [
    "# Feature Matrix X\n",
    "X = np.matrix([[i, -i] for i in range(A.shape[0])], dtype = float)\n",
    "print (X)\n",
    "print (\"shape of X: [%d, %d]\" % (X.shape))"
   ]
  },
  {
   "cell_type": "code",
   "execution_count": 28,
   "metadata": {},
   "outputs": [
    {
     "name": "stdout",
     "output_type": "stream",
     "text": [
      "[[ 1. -1.]\n",
      " [ 5. -5.]\n",
      " [ 1. -1.]\n",
      " [ 2. -2.]]\n"
     ]
    }
   ],
   "source": [
    "#  f(X, A) = AX where sigma = identify function (multiply by 1)\n",
    "print (A * X) # also can be written as np.dot(A, X)\n",
    "\n",
    "# The representation of each node (each row) is \n",
    "#     now a sum of its neighbors features"
   ]
  },
  {
   "cell_type": "code",
   "execution_count": 23,
   "metadata": {},
   "outputs": [
    {
     "name": "stdout",
     "output_type": "stream",
     "text": [
      "[[ 1.  1.  0.  0.]\n",
      " [ 0.  1.  1.  1.]\n",
      " [ 0.  1.  1.  0.]\n",
      " [ 1.  0.  1.  1.]]\n"
     ]
    }
   ],
   "source": [
    "# Problem 1: the aggregated representation AX doesn't include own features\n",
    "I = np.eye(A.shape[0])\n",
    "A_hat = A + I\n",
    "print (A_hat)"
   ]
  },
  {
   "cell_type": "code",
   "execution_count": 25,
   "metadata": {},
   "outputs": [
    {
     "name": "stdout",
     "output_type": "stream",
     "text": [
      "[[ 1. -1.]\n",
      " [ 6. -6.]\n",
      " [ 3. -3.]\n",
      " [ 5. -5.]]\n"
     ]
    }
   ],
   "source": [
    "# Now own features are also added because the nodes are neighbors of itself\n",
    "print(A_hat * X)"
   ]
  },
  {
   "cell_type": "code",
   "execution_count": 39,
   "metadata": {},
   "outputs": [
    {
     "name": "stdout",
     "output_type": "stream",
     "text": [
      "[ 1.  2.  2.  1.]\n",
      "=================================\n",
      "[[ 1.  0.  0.  0.]\n",
      " [ 0.  2.  0.  0.]\n",
      " [ 0.  0.  2.  0.]\n",
      " [ 0.  0.  0.  1.]]\n"
     ]
    }
   ],
   "source": [
    "# Problem 2: nodes with large degrees will have large values, \n",
    "# and nodes with small degrees will have small values\n",
    "# ==> need to normalize values of A by multiply A with inverse degree matrix D\n",
    "\n",
    "D = np.array(np.sum(A, axis = 0))[0] # degrees of each node\n",
    "print (D)\n",
    "D = np.matrix(np.diag(D))\n",
    "print ('=================================')\n",
    "print (D)"
   ]
  },
  {
   "cell_type": "code",
   "execution_count": 38,
   "metadata": {},
   "outputs": [
    {
     "name": "stdout",
     "output_type": "stream",
     "text": [
      "[[ 1.   0.   0.   0. ]\n",
      " [ 0.   0.5  0.   0. ]\n",
      " [ 0.   0.   0.5  0. ]\n",
      " [ 0.   0.   0.   1. ]]\n",
      "=================================\n",
      "[[ 0.   1.   0.   0. ]\n",
      " [ 0.   0.   0.5  0.5]\n",
      " [ 0.   0.5  0.   0. ]\n",
      " [ 1.   0.   1.   0. ]]\n"
     ]
    }
   ],
   "source": [
    "# Divide the values in each row of the adjacency matrix by the degree of the node\n",
    "print (D**-1)\n",
    "print ('=================================')\n",
    "print(D**-1 * A)"
   ]
  },
  {
   "cell_type": "code",
   "execution_count": 47,
   "metadata": {},
   "outputs": [
    {
     "name": "stdout",
     "output_type": "stream",
     "text": [
      "Before: \n",
      " [[ 1. -1.]\n",
      " [ 5. -5.]\n",
      " [ 1. -1.]\n",
      " [ 2. -2.]]\n",
      "=================================\n",
      "After: \n",
      " [[ 1.  -1. ]\n",
      " [ 2.5 -2.5]\n",
      " [ 0.5 -0.5]\n",
      " [ 2.  -2. ]]\n"
     ]
    }
   ],
   "source": [
    "# apply propogation rule with the transformed adjacency matrix\n",
    "# get node representations corresponding to the mean of the features of neighboring nodes\n",
    "print (\"Before: \\n\", A * X)\n",
    "print (\"=================================\")\n",
    "print(\"After: \\n\", D**-1 * A * X)\n"
   ]
  },
  {
   "cell_type": "markdown",
   "metadata": {},
   "source": [
    "## Including self hops:"
   ]
  },
  {
   "cell_type": "code",
   "execution_count": 42,
   "metadata": {},
   "outputs": [
    {
     "name": "stdout",
     "output_type": "stream",
     "text": [
      "[[ 1. -1.]\n",
      " [ 4. -4.]\n",
      " [ 2. -2.]\n",
      " [ 5. -5.]]\n"
     ]
    }
   ],
   "source": [
    "W = np.matrix([\n",
    "    [1, -1], [-1, 1]\n",
    "])\n",
    "D_hat = np.array(np.sum(A_hat, axis = 0))[0]\n",
    "D_hat = np.matrix(np.diag(D_hat))\n",
    "print(D_hat**-1 * A_hat * X * W)"
   ]
  },
  {
   "cell_type": "code",
   "execution_count": 48,
   "metadata": {},
   "outputs": [
    {
     "name": "stdout",
     "output_type": "stream",
     "text": [
      "[[ 1.]\n",
      " [ 4.]\n",
      " [ 2.]\n",
      " [ 5.]]\n"
     ]
    }
   ],
   "source": [
    "# reduce dimensionality of the output feature:\n",
    "\n",
    "W = np.matrix([\n",
    "    [1], [-1]\n",
    "])\n",
    "D_hat = np.array(np.sum(A_hat, axis = 0))[0]\n",
    "D_hat = np.matrix(np.diag(D_hat))\n",
    "print(D_hat**-1 * A_hat * X * W)"
   ]
  },
  {
   "cell_type": "code",
   "execution_count": 50,
   "metadata": {},
   "outputs": [],
   "source": [
    "def relu (z):\n",
    "    a = np.maximum(0, z)\n",
    "    return a"
   ]
  },
  {
   "cell_type": "code",
   "execution_count": 51,
   "metadata": {},
   "outputs": [
    {
     "name": "stdout",
     "output_type": "stream",
     "text": [
      "[[ 1.  0.]\n",
      " [ 4.  0.]\n",
      " [ 2.  0.]\n",
      " [ 5.  0.]]\n"
     ]
    }
   ],
   "source": [
    "# RELU: a = max(0, z) \n",
    "W = np.matrix([\n",
    "    [1, -1], [-1, 1]\n",
    "])\n",
    "print(relu(D_hat**-1 * A_hat * X * W))"
   ]
  },
  {
   "cell_type": "code",
   "execution_count": null,
   "metadata": {},
   "outputs": [],
   "source": []
  }
 ],
 "metadata": {
  "kernelspec": {
   "display_name": "Python 3",
   "language": "python",
   "name": "python3"
  },
  "language_info": {
   "codemirror_mode": {
    "name": "ipython",
    "version": 3
   },
   "file_extension": ".py",
   "mimetype": "text/x-python",
   "name": "python",
   "nbconvert_exporter": "python",
   "pygments_lexer": "ipython3",
   "version": "3.6.3"
  }
 },
 "nbformat": 4,
 "nbformat_minor": 2
}
